{
 "cells": [
  {
   "cell_type": "code",
   "execution_count": null,
   "metadata": {},
   "outputs": [],
   "source": [
    "import yaml\n",
    "import pandas as pd\n",
    "import numpy as np\n",
    "import matplotlib.pyplot as plt\n",
    "import panel as pn \n",
    "from scipy import stats\n",
    "from statsmodels.distributions.empirical_distribution import ECDF\n",
    "from bokeh.io import output_notebook\n",
    "from bokeh.plotting import figure,show \n",
    "from bokeh.layouts import column, row\n",
    "output_notebook()\n",
    "pn.extension()"
   ]
  },
  {
   "cell_type": "code",
   "execution_count": null,
   "metadata": {},
   "outputs": [],
   "source": [
    "def get_config():\n",
    "    with open(\"config.yaml\", 'r') as stream:\n",
    "        config = yaml.safe_load(stream)\n",
    "    return config"
   ]
  },
  {
   "cell_type": "code",
   "execution_count": null,
   "metadata": {},
   "outputs": [],
   "source": [
    "def combine_datasets(ccre, euclidean, amount):\n",
    "    config = get_config()\n",
    "\n",
    "    ccre_df = pd.read_csv(config[ccre])\n",
    "    euclidean_df = pd.read_csv(config[euclidean])\n",
    "    x = np.array(ccre_df['ccre(X|Y)'][:])\n",
    "    y = np.array(euclidean_df['euclidean_similarity'][:])\n",
    "    euclidean_df['same_centre'] = list(abs((euclidean_df.id_x - euclidean_df.id_y)) <=amount)\n",
    "\n",
    "    ccre_df['same_centre'] = list(abs((ccre_df.id_x - ccre_df.id_y)) <=amount)\n",
    "    #combine\n",
    "    df = pd.concat([euclidean_df, ccre_df], axis=1)\n",
    "    df = df.loc[:,~df.columns.duplicated()].copy()\n",
    "    return df"
   ]
  },
  {
   "cell_type": "code",
   "execution_count": null,
   "metadata": {},
   "outputs": [],
   "source": [
    "HC_AD = combine_datasets(ccre=\"ccre_HC_AD\", euclidean=\"euclidean_HC_AD\", amount=4)\n",
    "HC_PD = combine_datasets(ccre=\"ccre_HC_PD\", euclidean=\"euclidean_HC_PD\", amount=4)\n",
    "HC_AD_PD = combine_datasets(ccre=\"ccre_HC_AD_PD\", euclidean=\"euclidean_HC_AD_PD\", amount=4)\n",
    "AD_PD = combine_datasets(ccre=\"ccre_AD_PD\", euclidean=\"euclidean_AD_PD\", amount=4)\n",
    "HC = combine_datasets(ccre=\"ccre_HC\", euclidean=\"euclidean_HC\", amount=4)\n",
    "AD = combine_datasets(ccre=\"ccre_AD\", euclidean=\"euclidean_AD\", amount=4)\n",
    "PD = combine_datasets(ccre=\"ccre_PD\", euclidean=\"euclidean_PD\", amount=4)"
   ]
  },
  {
   "cell_type": "code",
   "execution_count": null,
   "metadata": {},
   "outputs": [],
   "source": [
    "PD"
   ]
  },
  {
   "cell_type": "code",
   "execution_count": null,
   "metadata": {},
   "outputs": [],
   "source": [
    "def compare_scatter_plots(src=\"AD_PD\", src2=\"AD_PD\"):\n",
    "    df1 = sources_dataframes[src]\n",
    "    df2 = sources_dataframes[src2]\n",
    "    plot1 = figure(height=400, width=400, title=src)\n",
    "    plot2 =  figure(height=400, width=400, title=src2)\n",
    "    plot1.scatter('ccre(X|Y)', 'euclidean_similarity', source=df1[df1['same_centre'] == True])\n",
    "    plot1.scatter('ccre(X|Y)', 'euclidean_similarity', source=df1[df1['same_centre'] == False], color=\"red\")\n",
    "    plot2.scatter('ccre(X|Y)', 'euclidean_similarity', source=df2[df2['same_centre'] == True])\n",
    "    plot2.scatter('ccre(X|Y)', 'euclidean_similarity', source=df2[df2['same_centre'] == False], color=\"red\")\n",
    "    return row(plot1, plot2)\n",
    "sources_names = [\"AD_PD\", \"HC_PD\", \"HC_AD\", \"HC\", \"AD\", \"PD\"]\n",
    "sources_dataframes = {\"AD_PD\": AD_PD, \"HC_PD\":HC_PD, \"HC_AD\": HC_AD, \"HC\": HC, \"AD\": AD, \"PD\": PD} \n",
    "scatter_plots = pn.interact(compare_scatter_plots, src=sources_names, src2=sources_names)\n",
    "scatter_plots"
   ]
  },
  {
   "cell_type": "code",
   "execution_count": null,
   "metadata": {},
   "outputs": [],
   "source": [
    "def cumulative_histogram(source1 = \"AD_PD\", source2 = \"AD_PD\"):\n",
    "    data = sources_dataframes[source1]\n",
    "    ecdf = ECDF(data['ccre(X|Y)'])\n",
    "    ecdf2 = ECDF(data['euclidean_similarity'])\n",
    "    \n",
    "    plot1 = figure(width=400, height=400, title=source1)\n",
    "    plot1.line(ecdf.x, ecdf.y)\n",
    "    plot1.line(ecdf2.x, ecdf2.y, color='orange')\n",
    "    \n",
    "    data = sources_dataframes[source2]\n",
    "    ecdf = ECDF(data['ccre(X|Y)'])\n",
    "    ecdf2 = ECDF(data['euclidean_similarity'])\n",
    "    \n",
    "    plot2 = figure(width=400, height=400, title=source2)\n",
    "    plot2.line(ecdf.x, ecdf.y)\n",
    "    plot2.line(ecdf2.x, ecdf2.y, color='orange')\n",
    "\n",
    "    return row(plot1, plot2)\n",
    "cumulative_plots = pn.interact(cumulative_histogram, source1=sources_names, source2=sources_names)\n",
    "cumulative_plots\n"
   ]
  }
 ],
 "metadata": {
  "kernelspec": {
   "display_name": "Python 3",
   "language": "python",
   "name": "python3"
  },
  "language_info": {
   "codemirror_mode": {
    "name": "ipython",
    "version": 3
   },
   "file_extension": ".py",
   "mimetype": "text/x-python",
   "name": "python",
   "nbconvert_exporter": "python",
   "pygments_lexer": "ipython3",
   "version": "3.10.12"
  }
 },
 "nbformat": 4,
 "nbformat_minor": 2
}
