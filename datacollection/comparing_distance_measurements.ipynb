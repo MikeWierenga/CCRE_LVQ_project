{
 "cells": [
  {
   "cell_type": "code",
   "execution_count": null,
   "metadata": {},
   "outputs": [],
   "source": [
    "import yaml\n",
    "import pandas as pd\n",
    "import numpy as np\n",
    "import matplotlib.pyplot as plt\n",
    "import panel as pn \n",
    "import copy\n",
    "\n",
    "import csv\n",
    "from scipy import stats\n",
    "from statsmodels.distributions.empirical_distribution import ECDF\n",
    "from bokeh.io import output_notebook, export_png\n",
    "from bokeh.plotting import figure,show \n",
    "from bokeh.layouts import column, row, grid\n",
    "from sklearn.decomposition import PCA\n",
    "from sklearn.discriminant_analysis import LinearDiscriminantAnalysis\n",
    "output_notebook()\n",
    "pn.extension()"
   ]
  },
  {
   "cell_type": "code",
   "execution_count": null,
   "metadata": {},
   "outputs": [],
   "source": [
    "def get_config():\n",
    "    with open(\"config.yaml\", 'r') as stream:\n",
    "        config = yaml.safe_load(stream)\n",
    "    return config"
   ]
  },
  {
   "cell_type": "code",
   "execution_count": null,
   "metadata": {},
   "outputs": [],
   "source": [
    "def combine_datasets(ccre, euclidean):\n",
    "    config = get_config()\n",
    "\n",
    "    ccre_df = pd.read_csv(config[ccre])\n",
    "    euclidean_df = pd.read_csv(config[euclidean])\n",
    "    \n",
    "    #combine\n",
    "    df = pd.concat([euclidean_df, ccre_df], axis=1)\n",
    "    df = df.loc[:,~df.columns.duplicated()].copy()\n",
    "    hospitals = df['hospital'].str.split('_') \n",
    "\n",
    "    same_centre_bools = [] \n",
    "    for hospital in hospitals:\n",
    "        if hospital[0] == hospital[1]:\n",
    "            same_centre_bools.append(True)\n",
    "        else:\n",
    "            same_centre_bools.append(False)\n",
    "    df['same_centre'] = same_centre_bools\n",
    "    return df"
   ]
  },
  {
   "cell_type": "code",
   "execution_count": null,
   "metadata": {},
   "outputs": [],
   "source": [
    "df = combine_datasets(ccre=\"ccre_all\", euclidean=\"euclidean_all\")\n",
    "df.loc[df['ccre(X|Y)'].str[0] == '[', \"ccre(X|Y)\"] = 0\n",
    "df = df.astype({'ccre(X|Y)':'float'})\n",
    "df = df.astype({'euclidean_similarity':'float'})\n",
    "patients_to_remove = [23, 25, 27,30,32,34,35,36,40,52, 56, 104,110,111,117,120,134,140,148,159,161,162, 171,179,180,181,182,191,192,196,205,211,215,216, 230,233,236,237,238,239,242,243,245, 247,252,253,254,256,258,262,272,275,277,279,284,285,286,287,289,290,291,292,294,295,296,297,298,299,300,301,303]\n",
    "df = df[(~df['id_x'].isin(patients_to_remove)) & ~df['id_y'].isin(patients_to_remove)]"
   ]
  },
  {
   "cell_type": "code",
   "execution_count": null,
   "metadata": {},
   "outputs": [],
   "source": [
    "df.fillna({'ccre(X|Y)': 1}, inplace=True)\n",
    "df"
   ]
  },
  {
   "cell_type": "code",
   "execution_count": null,
   "metadata": {},
   "outputs": [],
   "source": [
    "def compare_scatter_plots(disease1=\"HC\", disease2=\"HC\"):\n",
    "    \n",
    "    combine_diseases = f\"{disease1}_{disease2}\"\n",
    "    figures = []\n",
    "    for i in sources_names:\n",
    "\n",
    "        for j in sources_names:\n",
    "\n",
    "            combine_centres = f\"{i}_{j}\"\n",
    "            dataset = df[(df.hospital == combine_centres) & (df.diagnosis == combine_diseases)]\n",
    "         \n",
    "\n",
    "            figure1 = figure(height=400, width=400, title=f\"{combine_centres} {combine_diseases}\")\n",
    "            figure1.scatter('ccre(X|Y)', 'euclidean_similarity', source=dataset)\n",
    "            figure1.xaxis.axis_label = \"ccre\"\n",
    "            figure1.yaxis.axis_label = \"euclidean similarity\"\n",
    "            figures.append(figure1)\n",
    "    \n",
    "    return grid([\n",
    "        [figures[0], figures[1], figures[2]],\n",
    "        [figures[3], figures[4], figures[5]],\n",
    "        [figures[6], figures[7], figures[8]]\n",
    "    ])\n",
    "            \n",
    "\n",
    "sources_names = [\"UMCG\", \"UGOSM\", \"CUN\"]\n",
    "diagnosis = [\"HC\", \"AD\", \"PD\"]\n",
    "scatter_plots = pn.interact(compare_scatter_plots, disease1=diagnosis, disease2=diagnosis)\n",
    "scatter_plots"
   ]
  },
  {
   "cell_type": "code",
   "execution_count": null,
   "metadata": {},
   "outputs": [],
   "source": [
    "def cumulative_histogram(diagnosis1 = \"PD\", diagnosis2 = \"PD\"):\n",
    "    \n",
    "    combine_diseases = f\"{diagnosis1}_{diagnosis2}\"\n",
    "    figures = []\n",
    "    for i in sources_names:\n",
    "\n",
    "        for j in sources_names:\n",
    "\n",
    "            combine_centres = f\"{i}_{j}\"\n",
    "            data = df[(df.hospital == combine_centres) & (df.diagnosis == combine_diseases)]\n",
    "            \n",
    "            ecdf = ECDF(data['ccre(X|Y)'])\n",
    "            ecdf2 = ECDF(data['euclidean_similarity'])\n",
    "           \n",
    "            plot1 = figure(width=400, height=400, title=f\"{combine_centres} {combine_diseases}\")\n",
    "            plot1.line(ecdf.x, ecdf.y)\n",
    "            plot1.line(ecdf2.x, ecdf2.y, color='orange')\n",
    "          \n",
    "            figures.append(plot1)\n",
    "    \n",
    "\n",
    "    return grid([\n",
    "        [figures[0], figures[1], figures[2]],\n",
    "        [figures[3], figures[4], figures[5]],\n",
    "        [figures[6], figures[7], figures[8]]\n",
    "    ])\n",
    "cumulative_plots = pn.interact(cumulative_histogram, diagnosis1=diagnosis, diagnosis2=diagnosis)\n",
    "cumulative_plots\n"
   ]
  },
  {
   "cell_type": "code",
   "execution_count": null,
   "metadata": {},
   "outputs": [],
   "source": [
    "sorted_df = df.sort_values(['hospital', 'diagnosis'])\n"
   ]
  },
  {
   "cell_type": "code",
   "execution_count": null,
   "metadata": {},
   "outputs": [],
   "source": [
    "list_of_id = sorted_df['id_x'].unique()\n",
    "\n",
    "def adjacency_matrix(metric):\n",
    "    squared_matrix = []\n",
    "    temp_values = []\n",
    "    for i in list_of_id:\n",
    " \n",
    "        \n",
    "\n",
    "        for j in list_of_id:\n",
    "            if i == j:\n",
    "                temp_values.append(1)\n",
    "            else:\n",
    "\n",
    "                temp_values.append(sorted_df[(sorted_df['id_x'] == i) & (sorted_df['id_y'] == j)][metric].values[0])\n",
    "        if len(temp_values) == len(list_of_id):\n",
    "            \n",
    "            squared_matrix.append(temp_values)\n",
    "            temp_values = []\n",
    "    return squared_matrix\n",
    "CCRE_matrix = adjacency_matrix('ccre(X|Y)')\n",
    "euclidean_matrix = adjacency_matrix('euclidean_similarity')\n"
   ]
  },
  {
   "cell_type": "code",
   "execution_count": null,
   "metadata": {},
   "outputs": [],
   "source": [
    "df"
   ]
  },
  {
   "cell_type": "code",
   "execution_count": null,
   "metadata": {},
   "outputs": [],
   "source": [
    "df[df['id_x'] == list_of_id[232]]['diagnosis'].values[0].split('_')[0]"
   ]
  },
  {
   "cell_type": "code",
   "execution_count": null,
   "metadata": {},
   "outputs": [],
   "source": [
    "\n",
    "hospital_diagnosis_full = []\n",
    "\n",
    "for i in list_of_id:\n",
    "    \n",
    "    hospital = df[df['id_x'] == i]['hospital'].values[0].split('_')[0]\n",
    "    diagnosis = df[df['id_x'] == i]['diagnosis'].values[0].split('_')[0]\n",
    "    hospital_diagnosis_full.append(f'{hospital}_{diagnosis}')\n"
   ]
  },
  {
   "cell_type": "code",
   "execution_count": null,
   "metadata": {},
   "outputs": [],
   "source": [
    "position = [16, 49, 91, 135, 183, 201, 220, 232]\n",
    "hospital_diagnosis = ['CUN_HC', 'CUN_PD', 'UGOSM_AD', 'UGOSM_HC', 'UGOSM_PD', 'UMCG_AD', 'UMCG_HC', 'UMCG_PD']\n",
    "plt.xticks(position, hospital_diagnosis, rotation='vertical')\n",
    "plt.yticks(position, hospital_diagnosis)\n",
    "plt.title('HEAT map ccre adjacency matrix')\n",
    "plt.imshow(CCRE_matrix, vmin=0, vmax=1)\n"
   ]
  },
  {
   "cell_type": "code",
   "execution_count": null,
   "metadata": {},
   "outputs": [],
   "source": [
    "\n",
    "plt.xticks(position, hospital_diagnosis, rotation='vertical')\n",
    "plt.yticks(position, hospital_diagnosis)\n",
    "plt.title('HEAT map euclidean similarity adjacency matrix')\n",
    "plt.imshow(euclidean_matrix, vmin=0, vmax=0.1)"
   ]
  },
  {
   "cell_type": "code",
   "execution_count": null,
   "metadata": {},
   "outputs": [],
   "source": [
    "ill_notill = []\n",
    "one_or_zero = []\n",
    "for i in hospital_diagnosis_full:\n",
    "    if i[-2:] == 'AD' or i[-2:] ==  'PD':\n",
    "        ill_notill.append('ill')\n",
    "        one_or_zero.append(1)\n",
    "    else:\n",
    "        ill_notill.append('notill')\n",
    "        one_or_zero.append(0)"
   ]
  },
  {
   "cell_type": "markdown",
   "metadata": {},
   "source": [
    "<h1>LDA</h1>"
   ]
  },
  {
   "cell_type": "code",
   "execution_count": null,
   "metadata": {},
   "outputs": [],
   "source": [
    "from sklearn.model_selection import train_test_split\n",
    "from sklearn.model_selection import RepeatedStratifiedKFold\n",
    "from sklearn.model_selection import cross_val_score\n",
    "from sklearn.discriminant_analysis import LinearDiscriminantAnalysis \n",
    "from sklearn import datasets\n",
    "import matplotlib.pyplot as plt\n",
    "import pandas as pd\n",
    "import numpy as np\n",
    "from sklearn.model_selection import train_test_split\n",
    "from sklearn.model_selection import RepeatedStratifiedKFold\n",
    "from sklearn.model_selection import cross_val_score\n",
    "from sklearn.discriminant_analysis import LinearDiscriminantAnalysis \n",
    "iris = datasets.load_iris()\n"
   ]
  },
  {
   "cell_type": "code",
   "execution_count": null,
   "metadata": {},
   "outputs": [],
   "source": [
    "def lda(X, y, title):\n",
    "     #devide the data\n",
    "    ill = []\n",
    "    notill = []\n",
    "    for index, label in enumerate(y):\n",
    "        if label == 0:\n",
    "            notill.append(X[index])\n",
    "        else:\n",
    "            ill.append(X[index])\n",
    "    ill = np.array(ill)\n",
    "    notill = np.array(notill)\n",
    "   \n",
    "    # calculate mean and covariance\n",
    "    Mill = ill.mean(axis=0)\n",
    "    Mnotill = notill.mean(axis=0)\n",
    "    nill = ill.shape[0]\n",
    "    nnotill = notill.shape[0]\n",
    "    Cill = np.cov(ill.T)\n",
    "    Cnotill = np.cov(notill.T)\n",
    "\n",
    "    #calculate the pooled covariance matrix\n",
    "    Sp = ((nnotill - 1) * Cnotill + (nill - 1) * Cill) / (nnotill + nill - 2)\n",
    "\n",
    "    #project data onto the discriminant axis\n",
    "    a = np.linalg.inv(Sp) @ (Mill - Mnotill) \n",
    "    a /= np.sqrt((a ** 2).sum())\n",
    "\n",
    "    tw = ill @ a \n",
    "    tr = notill @ a\n",
    "\n",
    "    #plot \n",
    "    Ew = ill - tw[:, None] * a[None, :]\n",
    "    Er = notill - tr[:, None] * a[None, :]\n",
    "\n",
    "    X = np.concatenate((Ew, Er), axis=0)\n",
    "    S = np.cov(X.T)\n",
    "    vals, vecs = np.linalg.eig(S)\n",
    "    order = vals.argsort()[::-1]\n",
    "    vecs = vecs[:, order]\n",
    "    vals = vals[order]\n",
    "    Tw = ill @ vecs\n",
    "    Tr = notill @ vecs\n",
    "    plt.title(f\"LDA {title}\")\n",
    "    plt.scatter(tr, Tr[:, 0], s=5, c=\"red\", label='notill')\n",
    "    plt.scatter(tw, Tw[:, 0], s=5, c=\"orange\", label='ill')\n",
    "    plt.xlabel(\"Discriminant axis\")\n",
    "    plt.ylabel(\"Non-discriminant PC 1\")\n",
    "    plt.legend()\n",
    "\n",
    "lda(CCRE_matrix, one_or_zero, \"CCRE\")"
   ]
  },
  {
   "cell_type": "code",
   "execution_count": null,
   "metadata": {},
   "outputs": [],
   "source": [
    "\n",
    "plt.ylim(-0.7,0)\n",
    "lda(euclidean_matrix, one_or_zero, \"euclidean\")"
   ]
  },
  {
   "cell_type": "markdown",
   "metadata": {},
   "source": [
    "PCA"
   ]
  },
  {
   "cell_type": "code",
   "execution_count": null,
   "metadata": {},
   "outputs": [],
   "source": [
    "from collections import OrderedDict\n",
    "X = np.array(CCRE_matrix)\n",
    "pca = PCA(n_components=232)\n",
    "pca_fit = pca.fit_transform(X)\n",
    "data = {'pc1': pca_fit[:, 0], 'pc2':pca_fit[:, 1], 'labels': ill_notill}\n",
    "test = pd.DataFrame(data).values\n",
    "colors = {'ill': 'maroon', 'notill': 'lightcoral'}\n",
    "for i in test:\n",
    "    plt.scatter(i[0], i[1], color=colors[i[2]],label=i[2])\n",
    "handles, labels = plt.gca().get_legend_handles_labels()\n",
    "by_label = dict(zip(labels, handles))\n",
    "plt.title('PCA ccre similarity')\n",
    "plt.xlabel('first PC')\n",
    "plt.ylabel('second PC')\n",
    "plt.legend(by_label.values(), by_label.keys(), loc='center left', bbox_to_anchor=(1, 0.5))"
   ]
  },
  {
   "cell_type": "code",
   "execution_count": null,
   "metadata": {},
   "outputs": [],
   "source": [
    "X = np.array(euclidean_matrix)\n",
    "pca = PCA(n_components=232)\n",
    "pca_fit = pca.fit_transform(X)\n",
    "data = {'pc1': pca_fit[:, 0], 'pc2':pca_fit[:, 1], 'labels': ad_pd_hc}\n",
    "test = pd.DataFrame(data).values\n",
    "colors = {'AD': 'maroon', 'PD': 'lightcoral', 'HC': 'green'}\n",
    "for i in test:\n",
    "    plt.scatter(i[0], i[1], color=colors[i[2]],label=i[2])\n",
    "handles, labels = plt.gca().get_legend_handles_labels()\n",
    "by_label = dict(zip(labels, handles))\n",
    "plt.title('PCA euclidean similarity')\n",
    "plt.xlabel('first PC')\n",
    "plt.ylabel('second PC')\n",
    "\n",
    "plt.legend(by_label.values(), by_label.keys(), loc='center left', bbox_to_anchor=(1, 0.5))"
   ]
  },
  {
   "cell_type": "code",
   "execution_count": null,
   "metadata": {},
   "outputs": [],
   "source": [
    "def compare_metrics(hospital, first_diagnosis, second_diagnosis):\n",
    "\n",
    "    first = df[(df['hospital'] == hospital) & (df['diagnosis'] == f\"{first_diagnosis}_{first_diagnosis}\")]\n",
    "    second = df[(df['hospital'] == hospital) & (df['diagnosis'] == f\"{second_diagnosis}_{second_diagnosis}\")]\n",
    "\n",
    "    third = df[(df['hospital'] == hospital) & (df['diagnosis'] == f\"{first_diagnosis}_{second_diagnosis}\")]\n",
    "    fourth = df[(df['hospital'] == hospital) & (df['diagnosis'] == f\"{second_diagnosis}_{first_diagnosis}\")]\n",
    "    \n",
    "    #euclidean distance\n",
    "    euclidean_first = first['euclidean_distance'].median() / (pd.concat([third['euclidean_distance'], fourth['euclidean_distance']])).median()\n",
    "    euclidean_second = second['euclidean_distance'].median() / (pd.concat([third['euclidean_distance'], fourth['euclidean_distance']])).median()\n",
    "    \n",
    "    #ccre\n",
    "    ccre_first = (1- first['ccre(X|Y)']).median() / (pd.concat([1 - third['ccre(X|Y)'], 1 - fourth['ccre(X|Y)']])).median()\n",
    "    ccre_second = (1-second['ccre(X|Y)']).median() / (pd.concat([1 - third['ccre(X|Y)'], 1 - fourth['ccre(X|Y)']])).median()\n",
    "    \n",
    "    header = ['formula', 'hospital','first_diagnosis', 'second_diagnosis' 'ccre_average', 'euclidean distance average', 'ccre<euclidean']\n",
    "    data_first_formula = [\n",
    "        f'mean({first_diagnosis})/ mean(between {first_diagnosis} and {second_diagnosis})',\n",
    "        hospital,\n",
    "        first_diagnosis,\n",
    "        second_diagnosis,\n",
    "        ccre_first,\n",
    "        euclidean_first,\n",
    "        ccre_first<euclidean_first\n",
    "    ]\n",
    "    data_second_formula = [\n",
    "        f'mean({second_diagnosis})/ mean(between {first_diagnosis} and {second_diagnosis})',\n",
    "        hospital,\n",
    "        first_diagnosis,\n",
    "        second_diagnosis,\n",
    "        ccre_second,\n",
    "        euclidean_second,\n",
    "        f'{ccre_second<euclidean_second}'\n",
    "    ]\n",
    "    file_created = False\n",
    "    with open(f\"compare_euclidean_ccre_distance.csv\", \"a\", newline=\"\") as file:\n",
    "        writer = csv.writer(file)\n",
    "        \n",
    "        if file_created:\n",
    "            \n",
    "            writer.writerow(header)\n",
    "            writer.writerow(data_first_formula)\n",
    "            writer.writerow(data_second_formula)\n",
    "            file_created = True\n",
    "        else:\n",
    "            writer.writerow(data_first_formula)\n",
    "            writer.writerow(data_second_formula)\n",
    "    print(f'formula 1 mean({first_diagnosis})/ mean(between {first_diagnosis} and {second_diagnosis}) , ccre average = {ccre_first}, euclidean distance average = {euclidean_first}, ccre < euclidean similarity {ccre_first<euclidean_first}')\n",
    "    print(f'formula 2 mean({second_diagnosis})/ mean(between {first_diagnosis} and {second_diagnosis}) , ccre average = {ccre_second}, euclidean distance average = {euclidean_second}, ccre < euclidean similarity {ccre_second<euclidean_second}\\n')\n"
   ]
  },
  {
   "cell_type": "code",
   "execution_count": null,
   "metadata": {},
   "outputs": [],
   "source": [
    "hospitals = ['UMCG_UMCG', 'UMCG_UGOSM', 'UMCG_CUN', 'UGOSM_UMCG', 'UGOSM_UGOSM',\n",
    "       'UGOSM_CUN', 'CUN_UMCG', 'CUN_UGOSM', 'CUN_CUN']\n",
    "for hospital in hospitals:\n",
    "    print(hospital)\n",
    "    compare_metrics(hospital, 'HC', 'PD')\n",
    "    if \"CUN\" not in hospital:\n",
    "       compare_metrics(hospital, 'HC', 'AD')\n",
    "       compare_metrics(hospital, 'AD', 'PD')\n"
   ]
  },
  {
   "cell_type": "code",
   "execution_count": null,
   "metadata": {},
   "outputs": [],
   "source": [
    "config = get_config()\n",
    "\n",
    "compare_euclidean_ccre_df = pd.read_csv(config['compare_euclidean_ccre'])\n",
    "compare_within = compare_euclidean_ccre_df[compare_euclidean_ccre_df['hospital'].isin(['UMCG_UMCG', 'CUN_CUN', 'UGOSM_UGOSM'])]\n",
    "compare_outside = compare_euclidean_ccre_df[~compare_euclidean_ccre_df['hospital'].isin(['UMCG_UMCG', 'CUN_CUN', 'UGOSM_UGOSM'])]\n",
    "compare_euclidean_ccre_df"
   ]
  },
  {
   "cell_type": "markdown",
   "metadata": {},
   "source": [
    "<h1>HC == HC</h1>"
   ]
  },
  {
   "cell_type": "code",
   "execution_count": null,
   "metadata": {},
   "outputs": [],
   "source": [
    "from collections import Counter\n",
    "def plot_pie(values, title):\n",
    " \n",
    "    counter = Counter(values)\n",
    "    values = [counter[0]/values.count()* 100, counter[1]/values.count()*100]\n",
    "    labels = ['False', 'True']\n",
    "    plt.title(title)\n",
    "    plt.pie(values, labels=labels)\n",
    "    plt.legend()\n"
   ]
  },
  {
   "cell_type": "code",
   "execution_count": null,
   "metadata": {},
   "outputs": [],
   "source": [
    "values = compare_within[compare_within['formula'].str[5:7] == 'HC']['ccre<euclidean'].astype(int)\n",
    "plot_pie(values, 'within centres HC ccre<euclidean median')\n"
   ]
  },
  {
   "cell_type": "code",
   "execution_count": null,
   "metadata": {},
   "outputs": [],
   "source": [
    "values = compare_outside[compare_outside['formula'].str[5:7] == 'HC']['ccre<euclidean'].astype(int)\n",
    "plot_pie(values, 'between centres HC ccre<euclidean median')"
   ]
  },
  {
   "cell_type": "markdown",
   "metadata": {},
   "source": [
    "<h1>HC != PD or AD</h1>"
   ]
  },
  {
   "cell_type": "code",
   "execution_count": null,
   "metadata": {},
   "outputs": [],
   "source": [
    "compare_euclidean_ccre_df[(compare_euclidean_ccre_df['formula'].str[5:7] == 'HC') &(compare_euclidean_ccre_df['second_diagnosis'].isin(['PD', 'AD']))]"
   ]
  },
  {
   "cell_type": "markdown",
   "metadata": {},
   "source": [
    "<h1>AD or PD != AD or PD</h1>"
   ]
  },
  {
   "cell_type": "code",
   "execution_count": null,
   "metadata": {},
   "outputs": [],
   "source": [
    "values = compare_within[compare_within['first_diagnosis'] == 'AD']['ccre<euclidean'].astype(int)\n",
    "plot_pie(values, 'between centres PD or AD != PD or AD ccre<euclidean median')"
   ]
  },
  {
   "cell_type": "code",
   "execution_count": null,
   "metadata": {},
   "outputs": [],
   "source": [
    "values = compare_outside[compare_outside['first_diagnosis'] == 'AD']['ccre<euclidean'].astype(int)\n",
    "plot_pie(values, 'between centres PD or AD != PD or AD ccre<euclidean median')"
   ]
  },
  {
   "cell_type": "markdown",
   "metadata": {},
   "source": [
    "<h1>PD > AD</h1>"
   ]
  },
  {
   "cell_type": "code",
   "execution_count": null,
   "metadata": {},
   "outputs": [],
   "source": [
    "compare_euclidean_ccre_df[compare_euclidean_ccre_df['formula'].str[5:7].isin(['PD', 'AD'])]"
   ]
  },
  {
   "cell_type": "markdown",
   "metadata": {},
   "source": [
    "<h1>kNN</h1>\n",
    "Because we have all the distances we dont need to implement the actual model but instead can use the adjacency matrix"
   ]
  },
  {
   "cell_type": "code",
   "execution_count": null,
   "metadata": {},
   "outputs": [],
   "source": [
    "CCRE_matrix\n",
    "\n",
    "list_of_labels = []\n",
    "for i in list_of_id:\n",
    "    hospital = sorted_df[sorted_df['id_x'] == i].iloc[0]['hospital'].split('_')[0]\n",
    "    diagnosis = sorted_df[sorted_df['id_x'] == i].iloc[0]['diagnosis'].split('_')[0]\n",
    "    list_of_labels.append(f'{hospital}_{diagnosis}')"
   ]
  },
  {
   "cell_type": "code",
   "execution_count": null,
   "metadata": {},
   "outputs": [],
   "source": [
    "import random\n",
    "testlist = [\n",
    "    [round((position[0] - 0) /100*20), position[0], 0],\n",
    "    [round((position[1] - position[0]) /100*20),position[1], position[0]],\n",
    "    [round((position[2] - position[1]) /100*20),position[2], position[1]],\n",
    "    [round((position[3] - position[2]) /100*20),position[3], position[2]],\n",
    "    [round((position[4] - position[3]) /100*20),position[4], position[3]],\n",
    "    [round((position[5] - position[4]) /100*20),position[5], position[4]],\n",
    "    [round((position[6] - position[5]) /100*20),position[6], position[5]],\n",
    "    [round((position[7] - position[6]) /100*20),position[7], position[6]],\n",
    "    ]\n",
    "def randomints(amount, position1, position2):\n",
    "    return random.sample(range(position1, position2), amount)\n",
    "testset =[]\n",
    "for i in testlist:\n",
    "    for j in randomints(i[0], i[2], i[1]):\n",
    "        testset.append(j)\n",
    "testset"
   ]
  },
  {
   "cell_type": "code",
   "execution_count": null,
   "metadata": {},
   "outputs": [],
   "source": [
    "testset[::-1]"
   ]
  },
  {
   "cell_type": "code",
   "execution_count": null,
   "metadata": {},
   "outputs": [],
   "source": [
    "matrices = copy.deepcopy(CCRE_matrix)\n",
    "for i in matrices:\n",
    "    for j in testset[::-1]:\n",
    "\n",
    "        i.pop(j)\n",
    "\n",
    "def knn(k, x, y):\n",
    "    correct_predicted = []\n",
    "    for index,matrix in enumerate(matrices):\n",
    "        if index in testset:\n",
    "            \n",
    "            actual_value = y[0]\n",
    "            predicted_values = []\n",
    "            for K in range(1, k):\n",
    "                number = [i for i in range(len(CCRE_matrix[index])) if CCRE_matrix[index][i] == (sorted(matrix, reverse=True)[K])][0]\n",
    "            \n",
    "                predicted_values.append(list_of_labels[number].split('_')[1])\n",
    "            counter = Counter(predicted_values)\n",
    "            predicted_value = max(counter, key=counter.get)\n",
    "            correct_predicted.append([list_of_labels[number] , actual_value, predicted_value == actual_value.split('_')[1]])\n",
    "    \n",
    "    return correct_predicted\n",
    "\n",
    "for i in range(2,20):\n",
    "    test = knn(i, copy.deepcopy(CCRE_matrix), list_of_labels)    \n",
    "    true = 0\n",
    "    false = 0\n",
    "    for j in test:\n",
    "        if j[2]:\n",
    "            true +=1\n",
    "        else:\n",
    "            false +=1\n",
    "\n",
    "    print(f'neighbours = {i-1}, incorrect predicted = {false}, correct predicted = {true}')"
   ]
  },
  {
   "cell_type": "code",
   "execution_count": null,
   "metadata": {},
   "outputs": [],
   "source": [
    "matrices = copy.deepcopy(euclidean_matrix)\n",
    "for i in matrices:\n",
    "    for j in testset[::-1]:\n",
    "\n",
    "        i.pop(j)\n",
    "\n",
    "def knn(k, x, y):\n",
    "    correct_predicted = []\n",
    "    for index,matrix in enumerate(matrices):\n",
    "        \n",
    "        if index in testset:\n",
    "            actual_value = y[0][-2:]\n",
    "            if actual_value == 'AD' or actual_value =='PD':\n",
    "                actual_value = 'ill'\n",
    "            else:\n",
    "                actual_value = 'notill'\n",
    "            predicted_values = []\n",
    "            \n",
    "            for K in range(1, k):\n",
    "            \n",
    "                number = [i for i in range(len(euclidean_matrix[index])) if euclidean_matrix[index][i] == (sorted(matrix)[K])][0]\n",
    "                label = list_of_labels[number].split('_')[1]\n",
    "                if label == 'AD' or label == 'PD':\n",
    "                \n",
    "                    predicted_values.append('ill')\n",
    "                else:\n",
    "                    predicted_values.append('notill')\n",
    "            counter = Counter(predicted_values)\n",
    "            predicted_value = max(counter, key=counter.get)\n",
    "           \n",
    "            correct_predicted.append([list_of_labels[number] , actual_value, predicted_value == actual_value])\n",
    "    \n",
    "    return correct_predicted\n",
    "\n",
    "for i in range(2,20):\n",
    "    test = knn(i, copy.deepcopy(CCRE_matrix), list_of_labels)    \n",
    "    true = 0\n",
    "    false = 0\n",
    "    for j in test:\n",
    "        if j[2]:\n",
    "            true +=1\n",
    "        else:\n",
    "            false +=1\n",
    "\n",
    "    print(f'neighbours = {i-1}, incorrect predicted = {false}, correct predicted = {true}')"
   ]
  },
  {
   "cell_type": "code",
   "execution_count": null,
   "metadata": {},
   "outputs": [],
   "source": [
    "matrices = copy.deepcopy(CCRE_matrix)\n",
    "for i in matrices:\n",
    "    for j in testset[::-1]:\n",
    "\n",
    "        i.pop(j)\n",
    "\n",
    "def knn(k, x, y):\n",
    "    correct_predicted = []\n",
    "    for index,matrix in enumerate(matrices):\n",
    "        \n",
    "        if index in testset:\n",
    "            actual_value = y[0][-2:]\n",
    "            if actual_value == 'AD' or actual_value =='PD':\n",
    "                actual_value = 'ill'\n",
    "            else:\n",
    "                actual_value = 'notill'\n",
    "            predicted_values = []\n",
    "            \n",
    "            for K in range(1, k):\n",
    "            \n",
    "                number = [i for i in range(len(CCRE_matrix[index])) if CCRE_matrix[index][i] == (sorted(matrix)[K])][0]\n",
    "                label = list_of_labels[number].split('_')[1]\n",
    "                \n",
    "                if label == 'AD' or label == 'PD':\n",
    "                \n",
    "                    predicted_values.append('ill')\n",
    "                else:\n",
    "                    predicted_values.append('notill')\n",
    "            counter = Counter(predicted_values)\n",
    "            predicted_value = max(counter, key=counter.get)\n",
    "            correct_predicted.append([list_of_labels[number] , actual_value, predicted_value == actual_value])\n",
    "    \n",
    "    return correct_predicted\n",
    "\n",
    "for i in range(2,20):\n",
    "    test = knn(i, copy.deepcopy(CCRE_matrix), list_of_labels)    \n",
    "    true = 0\n",
    "    false = 0\n",
    "    for j in test:\n",
    "        if j[2]:\n",
    "            true +=1\n",
    "        else:\n",
    "            false +=1\n",
    "\n",
    "    print(f'neighbours = {i-1}, incorrect predicted = {false}, correct predicted = {true}')"
   ]
  }
 ],
 "metadata": {
  "kernelspec": {
   "display_name": "Python 3",
   "language": "python",
   "name": "python3"
  },
  "language_info": {
   "codemirror_mode": {
    "name": "ipython",
    "version": 3
   },
   "file_extension": ".py",
   "mimetype": "text/x-python",
   "name": "python",
   "nbconvert_exporter": "python",
   "pygments_lexer": "ipython3",
   "version": "3.10.12"
  }
 },
 "nbformat": 4,
 "nbformat_minor": 2
}
