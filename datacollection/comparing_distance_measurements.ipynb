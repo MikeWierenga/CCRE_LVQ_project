{
 "cells": [
  {
   "cell_type": "code",
   "execution_count": null,
   "metadata": {},
   "outputs": [],
   "source": [
    "import yaml\n",
    "import pandas as pd\n",
    "import numpy as np\n",
    "import matplotlib.pyplot as plt\n",
    "import panel as pn \n",
    "from scipy import stats\n",
    "from statsmodels.distributions.empirical_distribution import ECDF\n",
    "from bokeh.io import output_notebook\n",
    "from bokeh.plotting import figure,show \n",
    "from bokeh.layouts import column, row, grid\n",
    "output_notebook()\n",
    "pn.extension()"
   ]
  },
  {
   "cell_type": "code",
   "execution_count": null,
   "metadata": {},
   "outputs": [],
   "source": [
    "def get_config():\n",
    "    with open(\"config.yaml\", 'r') as stream:\n",
    "        config = yaml.safe_load(stream)\n",
    "    return config"
   ]
  },
  {
   "cell_type": "code",
   "execution_count": null,
   "metadata": {},
   "outputs": [],
   "source": [
    "def combine_datasets(ccre, euclidean):\n",
    "    config = get_config()\n",
    "\n",
    "    ccre_df = pd.read_csv(config[ccre])\n",
    "    euclidean_df = pd.read_csv(config[euclidean])\n",
    "    x = np.array(ccre_df['ccre(X|Y)'][:])\n",
    "    y = np.array(euclidean_df['euclidean_similarity'][:])\n",
    "    \n",
    "    #combine\n",
    "    df = pd.concat([euclidean_df, ccre_df], axis=1)\n",
    "    df = df.loc[:,~df.columns.duplicated()].copy()\n",
    "    hospitals = df['hospital'].str.split('_') \n",
    "\n",
    "    same_centre_bools = [] \n",
    "    for hospital in hospitals:\n",
    "        if hospital[0] == hospital[1]:\n",
    "            same_centre_bools.append(True)\n",
    "        else:\n",
    "            same_centre_bools.append(False)\n",
    "    df['same_centre'] = same_centre_bools\n",
    "    return df"
   ]
  },
  {
   "cell_type": "code",
   "execution_count": null,
   "metadata": {},
   "outputs": [],
   "source": [
    "df = combine_datasets(ccre=\"ccre_all\", euclidean=\"euclidean_all\")\n",
    "df.loc[df['ccre(X|Y)'].str[0] == '[', \"ccre(X|Y)\"] = 0\n",
    "df = df.astype({'ccre(X|Y)':'float'})\n",
    "df = df.astype({'euclidean_similarity':'float'})\n",
    "patients_to_remove = [23, 25, 27,30,32,34,35,36,40,52, 56, 104,110,111,117,120,134,140,148,159,161,162, 171,179,180,181,182,191,192,196,205,211,215,216, 230,233,236,237,238,239,242,243,245, 247,252,253,254,256,258,262,272,275,277,279,284,285,286,287,289,290,291,292,294,295,296,297,298,299,300,301,303]\n",
    "df = df[(~df['id_x'].isin(patients_to_remove)) & ~df['id_y'].isin(patients_to_remove)]"
   ]
  },
  {
   "cell_type": "code",
   "execution_count": null,
   "metadata": {},
   "outputs": [],
   "source": [
    "def compare_scatter_plots(disease1=\"HC\", disease2=\"HC\"):\n",
    "    \n",
    "    combine_diseases = f\"{disease1}_{disease2}\"\n",
    "    figures = []\n",
    "    for i in sources_names:\n",
    "\n",
    "        for j in sources_names:\n",
    "\n",
    "            combine_centres = f\"{i}_{j}\"\n",
    "            dataset = df[(df.hospital == combine_centres) & (df.diagnosis == combine_diseases)]\n",
    "         \n",
    "\n",
    "            figure1 = figure(height=400, width=400, title=f\"{combine_centres} {combine_diseases}\")\n",
    "            figure1.scatter('ccre(X|Y)', 'euclidean_similarity', source=dataset)\n",
    "            figure1.xaxis.axis_label = \"ccre\"\n",
    "            figure1.yaxis.axis_label = \"euclidean similarity\"\n",
    "            figures.append(figure1)\n",
    "    \n",
    "    return grid([\n",
    "        [figures[0], figures[1], figures[2]],\n",
    "        [figures[3], figures[4], figures[5]],\n",
    "        [figures[6], figures[7], figures[8]]\n",
    "    ])\n",
    "            \n",
    "\n",
    "sources_names = [\"UMCG\", \"UGOSM\", \"CUN\"]\n",
    "diagnosis = [\"HC\", \"AD\", \"PD\"]\n",
    "scatter_plots = pn.interact(compare_scatter_plots, disease1=diagnosis, disease2=diagnosis)\n",
    "scatter_plots"
   ]
  },
  {
   "cell_type": "code",
   "execution_count": null,
   "metadata": {},
   "outputs": [],
   "source": [
    "def cumulative_histogram(diagnosis1 = \"PD\", diagnosis2 = \"PD\"):\n",
    "    \n",
    "    combine_diseases = f\"{diagnosis1}_{diagnosis2}\"\n",
    "    figures = []\n",
    "    for i in sources_names:\n",
    "\n",
    "        for j in sources_names:\n",
    "\n",
    "            combine_centres = f\"{i}_{j}\"\n",
    "            data = df[(df.hospital == combine_centres) & (df.diagnosis == combine_diseases)]\n",
    "            \n",
    "            ecdf = ECDF(data['ccre(X|Y)'])\n",
    "            ecdf2 = ECDF(data['euclidean_similarity'])\n",
    "           \n",
    "            plot1 = figure(width=400, height=400, title=f\"{combine_centres} {combine_diseases}\")\n",
    "            plot1.line(ecdf.x, ecdf.y)\n",
    "            plot1.line(ecdf2.x, ecdf2.y, color='orange')\n",
    "          \n",
    "            figures.append(plot1)\n",
    "    print(len(figures))\n",
    "\n",
    "    return grid([\n",
    "        [figures[0], figures[1], figures[2]],\n",
    "        [figures[3], figures[4], figures[5]],\n",
    "        [figures[6], figures[7], figures[8]]\n",
    "    ])\n",
    "cumulative_plots = pn.interact(cumulative_histogram, diagnosis1=diagnosis, diagnosis2=diagnosis)\n",
    "cumulative_plots\n"
   ]
  }
 ],
 "metadata": {
  "kernelspec": {
   "display_name": "Python 3",
   "language": "python",
   "name": "python3"
  },
  "language_info": {
   "codemirror_mode": {
    "name": "ipython",
    "version": 3
   },
   "file_extension": ".py",
   "mimetype": "text/x-python",
   "name": "python",
   "nbconvert_exporter": "python",
   "pygments_lexer": "ipython3",
   "version": "3.10.12"
  }
 },
 "nbformat": 4,
 "nbformat_minor": 2
}
