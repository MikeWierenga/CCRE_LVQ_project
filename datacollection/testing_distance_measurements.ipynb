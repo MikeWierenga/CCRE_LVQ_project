{
 "cells": [
  {
   "cell_type": "code",
   "execution_count": null,
   "metadata": {},
   "outputs": [],
   "source": [
    "import yaml\n",
    "import pandas as pd\n",
    "import numpy as np\n",
    "import matplotlib.pyplot as plt"
   ]
  },
  {
   "cell_type": "code",
   "execution_count": null,
   "metadata": {},
   "outputs": [],
   "source": [
    "def get_config():\n",
    "    with open(\"config.yaml\", 'r') as stream:\n",
    "        config = yaml.safe_load(stream)\n",
    "    return config"
   ]
  },
  {
   "cell_type": "code",
   "execution_count": null,
   "metadata": {},
   "outputs": [],
   "source": [
    "def combine_datasets(ccre, euclidean, amount):\n",
    "    config = get_config()\n",
    "\n",
    "    ccre_df = pd.read_csv(config[ccre])\n",
    "    euclidean_df = pd.read_csv(config[euclidean])\n",
    "    x = np.array(ccre_df['ccre(X|Y)'][:])\n",
    "    y = np.array(euclidean_df['euclidean_similarity'][:])\n",
    "    euclidean_df['same_centre'] = list(abs((euclidean_df.id_x - euclidean_df.id_y)) <=amount)\n",
    "\n",
    "    ccre_df['same_centre'] = list(abs((ccre_df.id_x - ccre_df.id_y)) <=amount)\n",
    "    #combine\n",
    "    df = pd.concat([euclidean_df, ccre_df], axis=1)\n",
    "    df = df.loc[:,~df.columns.duplicated()].copy()\n",
    "    return df"
   ]
  },
  {
   "cell_type": "code",
   "execution_count": null,
   "metadata": {},
   "outputs": [],
   "source": [
    "def compare_euclidean_ccre(df, disease):\n",
    "    groups = df.groupby('same_centre')\n",
    "    for name, group in groups:\n",
    "        plt.plot(group['ccre(X|Y)'], group['euclidean_similarity'], marker='o', linestyle='', markersize=5, label=name)\n",
    "    plt.title(f\"euclidean vs ccre in {disease} grouped by same_centre\")\n",
    "    plt.xlabel(\"ccre\")\n",
    "    plt.ylabel(\"euclidean similarity\")\n",
    "    plt.legend()\n",
    "\n",
    "def cumulative_histogram(ccre, euclidean):\n",
    "    plt.ecdf(ccre, label=\"ccre\")\n",
    "    plt.ecdf(euclidean, label=\"euclidean\")\n",
    "    plt.legend()"
   ]
  },
  {
   "cell_type": "code",
   "execution_count": null,
   "metadata": {},
   "outputs": [],
   "source": [
    "AD = combine_datasets(ccre=\"ccre_AD\", euclidean=\"euclidean_AD\", amount=4)\n",
    "PD = combine_datasets(ccre=\"ccre_PD\", euclidean=\"euclidean_PD\", amount=4)\n",
    "HC = combine_datasets(ccre=\"ccre_HC\", euclidean=\"euclidean_HC\", amount=4)"
   ]
  },
  {
   "cell_type": "code",
   "execution_count": null,
   "metadata": {},
   "outputs": [],
   "source": [
    "compare_euclidean_ccre(AD, \"AD\")"
   ]
  },
  {
   "cell_type": "code",
   "execution_count": null,
   "metadata": {},
   "outputs": [],
   "source": [
    "compare_euclidean_ccre(PD, \"PD\")"
   ]
  },
  {
   "cell_type": "code",
   "execution_count": null,
   "metadata": {},
   "outputs": [],
   "source": [
    "compare_euclidean_ccre(HC, \"HC\")"
   ]
  },
  {
   "cell_type": "code",
   "execution_count": null,
   "metadata": {},
   "outputs": [],
   "source": [
    "cumulative_histogram(HC['ccre(X|Y)'],HC['euclidean_similarity'])\n"
   ]
  },
  {
   "cell_type": "code",
   "execution_count": null,
   "metadata": {},
   "outputs": [],
   "source": [
    "cumulative_histogram(PD['ccre(X|Y)'],PD['euclidean_similarity'])"
   ]
  },
  {
   "cell_type": "code",
   "execution_count": null,
   "metadata": {},
   "outputs": [],
   "source": [
    "cumulative_histogram(AD['ccre(X|Y)'],AD['euclidean_similarity'])"
   ]
  }
 ],
 "metadata": {
  "kernelspec": {
   "display_name": "Python 3",
   "language": "python",
   "name": "python3"
  },
  "language_info": {
   "codemirror_mode": {
    "name": "ipython",
    "version": 3
   },
   "file_extension": ".py",
   "mimetype": "text/x-python",
   "name": "python",
   "nbconvert_exporter": "python",
   "pygments_lexer": "ipython3",
   "version": "3.10.12"
  }
 },
 "nbformat": 4,
 "nbformat_minor": 2
}
