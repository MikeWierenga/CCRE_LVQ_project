{
 "cells": [
  {
   "cell_type": "markdown",
   "metadata": {},
   "source": [
    "This notebook is made to get a better understanding of what data we actually have to do this project"
   ]
  },
  {
   "cell_type": "code",
   "execution_count": null,
   "metadata": {},
   "outputs": [],
   "source": [
    "import yaml\n",
    "import pandas as pd\n",
    "import numpy as np\n",
    "import matplotlib.pyplot as plt"
   ]
  },
  {
   "cell_type": "markdown",
   "metadata": {},
   "source": [
    "Loading yaml file where the locations of the data is being stored"
   ]
  },
  {
   "cell_type": "code",
   "execution_count": null,
   "metadata": {},
   "outputs": [],
   "source": [
    "import os \n",
    "os.getcwd()"
   ]
  },
  {
   "cell_type": "code",
   "execution_count": null,
   "metadata": {},
   "outputs": [],
   "source": [
    "def get_config():\n",
    "    with open(\"../main/config.yaml\", 'r') as stream:\n",
    "        config = yaml.safe_load(stream)\n",
    "    return config"
   ]
  },
  {
   "cell_type": "markdown",
   "metadata": {},
   "source": [
    "Loading the 3 files (center label, diagnosis label, and feature vectors)"
   ]
  },
  {
   "cell_type": "code",
   "execution_count": null,
   "metadata": {},
   "outputs": [],
   "source": [
    "config = get_config()\n",
    "feature_vectors = pd.read_csv(config['feature_vectors'], header=None)\n",
    "feature_vectors = feature_vectors.set_axis(list(range(1, 36)), axis=1)\n",
    "center_label = pd.read_csv(config['center_label'], header=None)\n",
    "center_label.rename(columns={0: \"center_label\"}, inplace=True)\n",
    "diagnosis_label = pd.read_csv(config['diagnosis_label'], header=None)\n",
    "diagnosis_label.rename(columns={0: \"diagnosis_label\"}, inplace=True)\n"
   ]
  },
  {
   "cell_type": "code",
   "execution_count": null,
   "metadata": {},
   "outputs": [],
   "source": [
    "df = pd.concat([center_label, diagnosis_label, feature_vectors], axis=1)"
   ]
  },
  {
   "cell_type": "code",
   "execution_count": null,
   "metadata": {},
   "outputs": [],
   "source": [
    "count_by_center = df.iloc[:, 0:2].groupby([\"center_label\"], as_index=False).count()\n",
    "count_by_diagnosis = df.iloc[:, 0:2].groupby([\"diagnosis_label\"], as_index=False).count()\n",
    "count_by_center_and_diagnosis = df.iloc[:, 0:3].groupby(['center_label', 'diagnosis_label'], as_index=False).count()"
   ]
  },
  {
   "cell_type": "code",
   "execution_count": null,
   "metadata": {},
   "outputs": [],
   "source": [
    "def create_piechart(labels, data):\n",
    "    fig, ax = plt.subplots()\n",
    "    ax.pie(data, labels=labels, autopct='%1.1f%%')\n"
   ]
  },
  {
   "cell_type": "code",
   "execution_count": null,
   "metadata": {},
   "outputs": [],
   "source": [
    "label = count_by_center['center_label']\n",
    "data = count_by_center['diagnosis_label']\n",
    "create_piechart(label, data)"
   ]
  },
  {
   "cell_type": "code",
   "execution_count": null,
   "metadata": {},
   "outputs": [],
   "source": [
    "label = count_by_diagnosis['diagnosis_label']\n",
    "data = count_by_diagnosis['center_label']\n",
    "create_piechart(label, data)"
   ]
  },
  {
   "cell_type": "code",
   "execution_count": null,
   "metadata": {},
   "outputs": [],
   "source": [
    "count_by_center_and_diagnosis[\"label\"] = count_by_center_and_diagnosis['center_label'].astype(str) +\"-\"+ count_by_center_and_diagnosis[\"diagnosis_label\"]\n",
    "label = count_by_center_and_diagnosis[\"label\"]\n",
    "data = count_by_center_and_diagnosis.iloc[:,2]\n",
    "create_piechart(label, data)"
   ]
  },
  {
   "cell_type": "code",
   "execution_count": null,
   "metadata": {},
   "outputs": [],
   "source": [
    "first_2_eigenvectors = df.loc[:, :2]\n",
    "PD_df = first_2_eigenvectors[first_2_eigenvectors['diagnosis_label'] == 'PD']\n",
    "\n",
    "groups = PD_df.groupby('center_label')\n",
    "for name, group in groups:\n",
    "    print(name)\n",
    "    plt.scatter(group[1], group[2], label=name)\n",
    "plt.title(\"PD diagnosis patients from different centres\")\n",
    "plt.xlabel(\"first eigenvector\")\n",
    "plt.ylabel(\"second eigenvector\")\n",
    "plt.legend()\n"
   ]
  }
 ],
 "metadata": {
  "kernelspec": {
   "display_name": "CCRE_LVQ_distance_measure",
   "language": "python",
   "name": "python3"
  },
  "language_info": {
   "codemirror_mode": {
    "name": "ipython",
    "version": 3
   },
   "file_extension": ".py",
   "mimetype": "text/x-python",
   "name": "python",
   "nbconvert_exporter": "python",
   "pygments_lexer": "ipython3",
   "version": "3.11.5"
  },
  "orig_nbformat": 4
 },
 "nbformat": 4,
 "nbformat_minor": 2
}
