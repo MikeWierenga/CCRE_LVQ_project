{
 "cells": [
  {
   "cell_type": "markdown",
   "metadata": {},
   "source": [
    "This notebook is made to get a better understanding of what data we actually have to do this project"
   ]
  },
  {
   "cell_type": "code",
   "execution_count": null,
   "metadata": {},
   "outputs": [],
   "source": [
    "import yaml\n",
    "import pandas as pd\n",
    "import numpy as np\n",
    "import matplotlib.pyplot as plt\n",
    "from sklearn.preprocessing import MinMaxScaler"
   ]
  },
  {
   "cell_type": "markdown",
   "metadata": {},
   "source": [
    "Loading yaml file where the locations of the data is being stored"
   ]
  },
  {
   "cell_type": "code",
   "execution_count": null,
   "metadata": {},
   "outputs": [],
   "source": [
    "import os \n",
    "os.getcwd()"
   ]
  },
  {
   "cell_type": "code",
   "execution_count": null,
   "metadata": {},
   "outputs": [],
   "source": [
    "def get_config():\n",
    "    with open(\"../data/config.yaml\", 'r') as stream:\n",
    "        config = yaml.safe_load(stream)\n",
    "    return config"
   ]
  },
  {
   "cell_type": "markdown",
   "metadata": {},
   "source": [
    "Loading the 3 files (center label, diagnosis label, and feature vectors)"
   ]
  },
  {
   "cell_type": "code",
   "execution_count": null,
   "metadata": {},
   "outputs": [],
   "source": [
    "config = get_config()\n",
    "feature_vectors = pd.read_csv(config['feature_vectors'], header=None)\n",
    "feature_vectors = feature_vectors.set_axis(list(range(1, 36)), axis=1)\n",
    "center_label = pd.read_csv(config['center_label'], header=None)\n",
    "center_label.rename(columns={0: \"center_label\"}, inplace=True)\n",
    "diagnosis_label = pd.read_csv(config['diagnosis_label'], header=None)\n",
    "diagnosis_label.rename(columns={0: \"diagnosis_label\"}, inplace=True)\n"
   ]
  },
  {
   "cell_type": "code",
   "execution_count": null,
   "metadata": {},
   "outputs": [],
   "source": [
    "df = pd.concat([center_label, diagnosis_label, feature_vectors], axis=1)"
   ]
  },
  {
   "cell_type": "code",
   "execution_count": null,
   "metadata": {},
   "outputs": [],
   "source": [
    "count_by_center = df.iloc[:, 0:2].groupby([\"center_label\"], as_index=False).count()\n",
    "count_by_diagnosis = df.iloc[:, 0:2].groupby([\"diagnosis_label\"], as_index=False).count()\n",
    "count_by_center_and_diagnosis = df.iloc[:, 0:3].groupby(['center_label', 'diagnosis_label'], as_index=False).count()"
   ]
  },
  {
   "cell_type": "code",
   "execution_count": null,
   "metadata": {},
   "outputs": [],
   "source": [
    "def create_piechart(labels, data):\n",
    "    fig, ax = plt.subplots()\n",
    "    ax.pie(data, labels=labels, autopct='%1.1f%%')\n"
   ]
  },
  {
   "cell_type": "code",
   "execution_count": null,
   "metadata": {},
   "outputs": [],
   "source": [
    "label = count_by_center['center_label']\n",
    "data = count_by_center['diagnosis_label']\n",
    "create_piechart(label, data)"
   ]
  },
  {
   "cell_type": "code",
   "execution_count": null,
   "metadata": {},
   "outputs": [],
   "source": [
    "label = count_by_diagnosis['diagnosis_label']\n",
    "data = count_by_diagnosis['center_label']\n",
    "create_piechart(label, data)"
   ]
  },
  {
   "cell_type": "code",
   "execution_count": null,
   "metadata": {},
   "outputs": [],
   "source": [
    "count_by_center_and_diagnosis[\"label\"] = count_by_center_and_diagnosis['center_label'].astype(str) +\"-\"+ count_by_center_and_diagnosis[\"diagnosis_label\"]\n",
    "label = count_by_center_and_diagnosis[\"label\"]\n",
    "data = count_by_center_and_diagnosis.iloc[:,2]\n",
    "create_piechart(label, data)"
   ]
  },
  {
   "cell_type": "code",
   "execution_count": null,
   "metadata": {},
   "outputs": [],
   "source": [
    "first_2_eigenvectors = df.loc[:, :2]\n",
    "PD_df = first_2_eigenvectors[first_2_eigenvectors['diagnosis_label'] == 'PD']\n",
    "\n",
    "groups = PD_df.groupby('center_label')\n",
    "for name, group in groups:\n",
    "    print(name)\n",
    "    plt.scatter(group[1], group[2], label=name)\n",
    "plt.title(\"PD diagnosis patients from different centres\")\n",
    "plt.xlabel(\"first eigenvector\")\n",
    "plt.ylabel(\"second eigenvector\")\n",
    "plt.legend()\n"
   ]
  },
  {
   "cell_type": "markdown",
   "metadata": {},
   "source": [
    "# checking to see if the data follows some kind of distribution\n",
    "Looking at the graphs below it looks like the feature vectors do follow a normal distribution"
   ]
  },
  {
   "cell_type": "code",
   "execution_count": null,
   "metadata": {},
   "outputs": [],
   "source": [
    "def DS_Q_Q_Plot(y, est = 'robust', **kwargs):\n",
    "    \"\"\"\n",
    "    *\n",
    "    Function DS_Q_Q_Plot(y, est = 'robust', **kwargs)\n",
    "    \n",
    "       This function makes a normal quantile-quantile plot (Q-Q-plot), also known\n",
    "       as a probability plot, to visually check whether data follow a normal distribution.\n",
    "    \n",
    "    Requires:            - \n",
    "    \n",
    "    Arguments:\n",
    "      y                  data array\n",
    "      est                Estimation method for normal parameters mu and sigma:\n",
    "                         either 'robust' (default), or 'ML' (Maximum Likelihood),\n",
    "                         or 'preset' (given values)\n",
    "      N.B. If est='preset' than the *optional* parameters mu, sigma must be provided:\n",
    "      mu                 preset value of mu\n",
    "      sigma              preset value of sigma\n",
    "      \n",
    "    Returns:\n",
    "      Estimated mu, sigma, n, and expected number of datapoints outside CI in Q-Q-plot.\n",
    "      Q-Q-plot\n",
    "      \n",
    "    Author:            M.E.F. Apol\n",
    "    Date:              2020-01-06, revision 2022-08-30\n",
    "    \"\"\"\n",
    "    \n",
    "    import numpy as np\n",
    "    from scipy.stats import iqr # iqr is the Interquartile Range function\n",
    "    import matplotlib.pyplot as plt\n",
    "    \n",
    "    # First, get the optional arguments mu and sigma:\n",
    "    mu_0 = kwargs.get('mu', None)\n",
    "    sigma_0 = kwargs.get('sigma', None)\n",
    "    \n",
    "    n = len(y)\n",
    "    \n",
    "    # Calculate order statistic:\n",
    "    y_os = np.sort(y)\n",
    "  \n",
    "    # Estimates of mu and sigma:\n",
    "    # ML estimates:\n",
    "    mu_ML = np.mean(y)\n",
    "    sigma2_ML = np.var(y)\n",
    "    sigma_ML = np.std(y) # biased estimate\n",
    "    s2 = np.var(y, ddof=1)\n",
    "    s = np.std(y, ddof=1) # unbiased estimate\n",
    "    # Robust estimates:\n",
    "    mu_R = np.median(y)\n",
    "    sigma_R = iqr(y)/1.349\n",
    "\n",
    "    # Assign values of mu and sigma for z-transform:\n",
    "    if est == 'ML':\n",
    "        mu, sigma = mu_ML, s\n",
    "    elif est == 'robust':\n",
    "        mu, sigma = mu_R, sigma_R\n",
    "    elif est == 'preset':\n",
    "        mu, sigma = mu_0, sigma_0\n",
    "    else:\n",
    "        print('Wrong estimation method chosen!')\n",
    "        return()\n",
    "        \n",
    "    print('Estimation method: ' + est)\n",
    "    print('n = {:d}, mu = {:.4g}, sigma = {:.4g}'.format(n, mu,sigma))\n",
    "    \n",
    "    # Expected number of deviations (95% confidence level):\n",
    "    n_dev = np.round(0.05*n)\n",
    "    \n",
    "    print('Expected number of data outside CI: {:.0f}'.format(n_dev))\n",
    "         \n",
    "    # Perform z-transform: sample quantiles z.i\n",
    "    z_i = (y_os - mu)/sigma\n",
    "\n",
    "    # Calculate cumulative probabilities p.i:\n",
    "    i = np.array(range(n)) + 1\n",
    "    p_i = (i - 0.5)/n\n",
    "\n",
    "    # Calculate theoretical quantiles z.(i):\n",
    "    from scipy.stats import norm\n",
    "    z_th = norm.ppf(p_i, 0, 1)\n",
    "\n",
    "    # Calculate SE or theoretical quantiles:\n",
    "    SE_z_th = (1/norm.pdf(z_th, 0, 1)) * np.sqrt((p_i * (1 - p_i)) / n)\n",
    "\n",
    "    # Calculate 95% CI of diagonal line:\n",
    "    CI_upper = z_th + 1.96 * SE_z_th\n",
    "    CI_lower = z_th - 1.96 * SE_z_th\n",
    "\n",
    "    # Make Q-Q plot:\n",
    "    plt.plot(z_th, z_i, 'o', color='k', label='experimental data')\n",
    "    plt.plot(z_th, z_th, '--', color='r', label='normal line')\n",
    "    plt.plot(z_th, CI_upper, '--', color='b', label='95% CI')\n",
    "    plt.plot(z_th, CI_lower, '--', color='b')\n",
    "    plt.xlabel('Theoretical quantiles, $z_{(i)}$')\n",
    "    plt.ylabel('Sample quantiles, $z_i$')\n",
    "    plt.title('Q-Q plot (' + est + ')')\n",
    "    plt.legend(loc='best')\n",
    "    plt.show()\n",
    "    pass;"
   ]
  },
  {
   "cell_type": "code",
   "execution_count": null,
   "metadata": {},
   "outputs": [],
   "source": [
    "def DS_Q_Q_Hist(y, est='robust', **kwargs):\n",
    "    \"\"\"\n",
    "    *\n",
    "    Function DS_Q_Q_Hist(y, est='robust', **kwargs)\n",
    "    \n",
    "       This function makes a histogram of the data and superimposes a fitted normal\n",
    "       distribution.\n",
    "       \n",
    "    Requires:            - \n",
    "    \n",
    "    Arguments:\n",
    "      y                  data array\n",
    "      est                Estimation method for normal parameters mu and sigma:\n",
    "                         either 'robust' (default), or 'ML' (Maximum Likelihood),\n",
    "                         or 'preset' (given values)\n",
    "      N.B. If est='preset' than the optional parameters mu, sigma must be provided:\n",
    "      mu                 preset value of mu\n",
    "      sigma              preset value of sigma\n",
    "    \n",
    "    Returns:\n",
    "      Estimations of mu and sigma\n",
    "      Histogram of data with estimated normal distribution superimposed\n",
    "      \n",
    "    Author:            M.E.F. Apol\n",
    "    Date:              2020-01-06\n",
    "    \"\"\"\n",
    "    \n",
    "    import numpy as np\n",
    "    from scipy.stats import iqr # iqr is the Interquartile Range function\n",
    "    from scipy.stats import norm\n",
    "    import matplotlib.pyplot as plt\n",
    "    \n",
    "    # First, get the optional arguments mu and sigma:\n",
    "    mu_0 = kwargs.get('mu', None)\n",
    "    sigma_0 = kwargs.get('sigma', None)\n",
    "    \n",
    "    n = len(y)\n",
    "    \n",
    "    # Estimates of mu and sigma:\n",
    "    # ML estimates:\n",
    "    mu_ML = np.mean(y)\n",
    "    sigma2_ML = np.var(y) # biased estimate\n",
    "    sigma_ML = np.std(y) \n",
    "    s2 = np.var(y, ddof=1) # unbiased estimate\n",
    "    s = np.std(y, ddof=1) \n",
    "    # Robust estimates:\n",
    "    mu_R = np.median(y)\n",
    "    sigma_R = iqr(y)/1.349\n",
    "\n",
    "    # Assign values of mu and sigma for z-transform:\n",
    "    if est == 'ML':\n",
    "        mu, sigma = mu_ML, s       \n",
    "    elif est == 'robust':\n",
    "        mu, sigma = mu_R, sigma_R\n",
    "    elif est == 'preset':\n",
    "        mu, sigma = mu_0, sigma_0\n",
    "    else:\n",
    "        print('Wrong estimation method chosen!')\n",
    "        return()\n",
    "    print('Estimation method: ' + est)\n",
    "    print('mu = {:.4g}, sigma = {:.4g}'.format(mu,sigma))\n",
    "        \n",
    "    # Calculate the CLT normal distribution:\n",
    "    x = np.linspace(np.min(y), np.max(y), 501)\n",
    "    rv = np.array([norm.pdf(xi, loc = mu, scale = sigma) for xi in x])\n",
    "    \n",
    "    # Make a histogram with corresponding normal distribution:\n",
    "    plt.hist(x=y, density=True, bins='auto', \n",
    "             color='darkgrey',alpha=1, rwidth=1, label='experimental')\n",
    "    plt.plot(x, rv, 'r', label='normal approximation')\n",
    "    plt.grid(axis='y', alpha=0.5)\n",
    "    plt.xlabel('Values, $y$')\n",
    "    plt.ylabel('Probability $f(y)$')\n",
    "    plt.title('Histogram with corresponding normal distribution (' + est + ')')\n",
    "    plt.legend(loc='best')\n",
    "    plt.show()\n",
    "    pass;"
   ]
  },
  {
   "cell_type": "code",
   "execution_count": null,
   "metadata": {},
   "outputs": [],
   "source": [
    "columns = df.iloc[:, 2:].columns\n",
    "for i in columns:\n",
    "    DS_Q_Q_Plot(df[i])\n",
    "    DS_Q_Q_Hist(df[i])"
   ]
  },
  {
   "cell_type": "code",
   "execution_count": null,
   "metadata": {},
   "outputs": [],
   "source": [
    "\n",
    "normalized_df = (df.iloc[:, 2:]-df.iloc[:, 2:].mean())/df.iloc[:, 2:].std()\n",
    "normalized_df"
   ]
  },
  {
   "cell_type": "code",
   "execution_count": null,
   "metadata": {},
   "outputs": [],
   "source": [
    "len(df)\n",
    "for i in range(len(df)):\n",
    "\n",
    "    DS_Q_Q_Plot(normalized_df.iloc[i], est=\"ML\")\n",
    "    DS_Q_Q_Hist(normalized_df.iloc[i], est=\"ML\")"
   ]
  }
 ],
 "metadata": {
  "kernelspec": {
   "display_name": "CCRE_LVQ_distance_measure",
   "language": "python",
   "name": "python3"
  },
  "language_info": {
   "codemirror_mode": {
    "name": "ipython",
    "version": 3
   },
   "file_extension": ".py",
   "mimetype": "text/x-python",
   "name": "python",
   "nbconvert_exporter": "python",
   "pygments_lexer": "ipython3",
   "version": "3.11.5"
  },
  "orig_nbformat": 4
 },
 "nbformat": 4,
 "nbformat_minor": 2
}
